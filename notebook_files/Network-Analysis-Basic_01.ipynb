{
 "cells": [
  {
   "cell_type": "markdown",
   "id": "a2181bad",
   "metadata": {},
   "source": [
    "SOURCE https://campus.datacamp.com/courses/introduction-to-network-analysis-in-python"
   ]
  },
  {
   "cell_type": "markdown",
   "id": "53ded1e1",
   "metadata": {},
   "source": [
    "# Network Analysis\n",
    "Modeling relationship between entities.\n",
    "\n",
    "#### Examples of Network\n",
    "- Social Network\n",
    "    > Modeling relationship between people\n",
    "- Transportation Network\n",
    "    > Modeling connectivity between locations, as determined by roads or flight paths connecting them\n",
    "    \n",
    "#### Examples of Analysis\n",
    "- Insights\n",
    "- Important entities: influencers in social network\n",
    "- Pathfinding: most efficient transport path\n",
    "- CLustering: finding communities\n",
    "\n",
    "#### Network Structure\n",
    "Graph { (Node)---Edge--(Node) }\n",
    "- Node\n",
    "- Edge\n",
    "- Graph"
   ]
  },
  {
   "cell_type": "markdown",
   "id": "aa280f9b",
   "metadata": {},
   "source": [
    "#### NetworkX API\n",
    "> https://networkx.org/documentation/stable/tutorial.html"
   ]
  },
  {
   "cell_type": "code",
   "execution_count": 1,
   "id": "22137557",
   "metadata": {},
   "outputs": [],
   "source": [
    "import networkx as nx"
   ]
  },
  {
   "cell_type": "code",
   "execution_count": 3,
   "id": "7d35cef7",
   "metadata": {},
   "outputs": [
    {
     "data": {
      "text/plain": [
       "NodeView((1, 2, 3))"
      ]
     },
     "execution_count": 3,
     "metadata": {},
     "output_type": "execute_result"
    }
   ],
   "source": [
    "# Create an empty graph(network)\n",
    "G = nx.Graph()\n",
    "\n",
    "# Add nodes\n",
    "nodes_list = [1, 2, 3]\n",
    "G.add_nodes_from(nodes_list)\n",
    "\n",
    "# Print nodes\n",
    "G.nodes()"
   ]
  },
  {
   "cell_type": "code",
   "execution_count": 11,
   "id": "9ccef2be",
   "metadata": {},
   "outputs": [
    {
     "data": {
      "text/plain": [
       "EdgeView([(1, 2)])"
      ]
     },
     "execution_count": 11,
     "metadata": {},
     "output_type": "execute_result"
    }
   ],
   "source": [
    "# Add edge between nodes\n",
    "G.add_edge(1, 2)\n",
    "\n",
    "# Print edges\n",
    "G.edges()"
   ]
  },
  {
   "cell_type": "code",
   "execution_count": 7,
   "id": "10f73913",
   "metadata": {},
   "outputs": [
    {
     "data": {
      "text/plain": [
       "NodeDataView({1: {'label': 'blue'}, 2: {}, 3: {}})"
      ]
     },
     "execution_count": 7,
     "metadata": {},
     "output_type": "execute_result"
    }
   ],
   "source": [
    "# Add metadata to the node\n",
    "G.nodes[1]['label'] = 'blue'\n",
    "\n",
    "# Print nodes with data\n",
    "G.nodes(data=True)"
   ]
  },
  {
   "cell_type": "code",
   "execution_count": 13,
   "id": "a4f45b23",
   "metadata": {},
   "outputs": [
    {
     "data": {
      "image/png": "[encoded data removed]",
      "text/plain": [
       "<Figure size 432x288 with 1 Axes>"
      ]
     },
     "metadata": {},
     "output_type": "display_data"
    }
   ],
   "source": [
    "import matplotlib.pyplot as plt\n",
    "\n",
    "nx.draw(G)\n",
    "plt.show()"
   ]
  },
  {
   "cell_type": "code",
   "execution_count": 15,
   "id": "8c847f04",
   "metadata": {},
   "outputs": [
    {
     "data": {
      "image/png": "[encoded data removed]",
      "text/plain": [
       "<Figure size 432x288 with 1 Axes>"
      ]
     },
     "metadata": {},
     "output_type": "display_data"
    }
   ],
   "source": [
    "# Add edge between nodes (2,3)\n",
    "G.add_edge(2, 3)\n",
    "\n",
    "nx.draw(G)\n",
    "plt.show()"
   ]
  },
  {
   "cell_type": "markdown",
   "id": "99ce67ca",
   "metadata": {},
   "source": [
    "[`output expression` for `iterator variable` in `iterable` if `predicate expression`]"
   ]
  },
  {
   "cell_type": "markdown",
   "id": "c6ed3506",
   "metadata": {},
   "source": [
    "Sample code from datacamp\n",
    "\n",
    "```\n",
    "# Use a list comprehension to get the nodes of interest: noi\n",
    "noi = [n for n, d in T.nodes(data=True) if d['occupation'] == 'scientist']\n",
    "\n",
    "# Use a list comprehension to get the edges of interest: eoi\n",
    "eoi = [(u, v) for u, v, d in T.edges(data=True) if d['date'] < date(2010, 1, 1)]\n",
    "```"
   ]
  },
  {
   "cell_type": "markdown",
   "id": "3cb752f8",
   "metadata": {},
   "source": [
    "#### Type of Graphs\n",
    "\n",
    "- Undirected Graphs\n",
    "    > e.g. Facebook's social graph\n",
    "    > ()---()\n",
    "    > edges don't have any inherent directionality associated with them\n",
    "    > (accepting friend request then connected)\n",
    "    \n",
    "    ```\n",
    "    G = nx.Graph()\n",
    "    type(G)\n",
    "    >>> networkx.classes.graph.Grpah\n",
    "    ```\n",
    "    \n",
    "\n",
    "- Directed Graphs\n",
    "    > e.g. Twitter's social graph\n",
    "    > ()-->()\n",
    "    > because of the nature of how users interact with one another\n",
    "    > (just follow one whether the one follow back or not)\n",
    "    > an inherent directionality associated with the graph\n",
    "    \n",
    "    ```\n",
    "    D = nx.DiGraph()\n",
    "    type(D)\n",
    "    >>> networkx.classes.digraph.DiGraph\n",
    "    ```\n",
    "    \n",
    "\n",
    "- Multi(Di)Grpah\n",
    "    > e.g. Trip records between bike sharing stations\n",
    "    > ()≡≡>()\n",
    "    \n",
    "    ```\n",
    "    M = nx.MultiGraph()\n",
    "    type(M)\n",
    "    >>> networkx.classes.multigraph.MultiGraph\n",
    "    ```\n",
    "    ```\n",
    "    MD = nx.MultiDiGraph()\n",
    "    type(MD)\n",
    "    >>> networkx.classes.multidigraph.MultiDiGraph\n",
    "    ```"
   ]
  },
  {
   "cell_type": "markdown",
   "id": "cd9b2b08",
   "metadata": {},
   "source": [
    "#### Weight on Graphs\n",
    "\n",
    "- Edges can contain weights\n",
    "    > collapsing 3 edges into a single one and give them as a weight metadata with the value '3', indicating that it was orginally 3 edges between the pair of nodes"
   ]
  },
  {
   "cell_type": "markdown",
   "id": "fc9bd16b",
   "metadata": {},
   "source": [
    "```\n",
    "# Set the weight of the edge\n",
    "T.edges[1, 10]['weight'] = 2\n",
    "\n",
    "# Iterate over all the edges (with metadata)\n",
    "for u, v, d in T.edges(data=True):\n",
    "\n",
    "    # Check if node 293 is involved\n",
    "    if 293 in [u, v]:\n",
    "\n",
    "        # Set the weight to 1.1\n",
    "        T.edges[u, v]['weight'] = 1.1\n",
    "```"
   ]
  },
  {
   "cell_type": "markdown",
   "id": "033dbef5",
   "metadata": {},
   "source": [
    "#### Self-loops\n",
    "- Nodes that are connected to themselves\n",
    "    > e.g. in certain scenarios, such as in bike-sharing data, where start and end station are same."
   ]
  },
  {
   "cell_type": "markdown",
   "id": "150dd0ad",
   "metadata": {},
   "source": [
    "```\n",
    "# Define find_selfloop_nodes()\n",
    "def find_selfloop_nodes(G):\n",
    "    \"\"\"\n",
    "    Finds all nodes that have self-loops in the graph G.\n",
    "    \"\"\"\n",
    "    nodes_in_selfloops = []\n",
    "\n",
    "    # Iterate over all the edges of G\n",
    "    for u, v in G.edges():\n",
    "\n",
    "    # Check if node u and node v are the same\n",
    "        if u == v:\n",
    "\n",
    "            # Append node u to nodes_in_selfloops\n",
    "            nodes_in_selfloops.append(u)\n",
    "\n",
    "    return nodes_in_selfloops\n",
    "\n",
    "# Check whether number of self loops equals the number of nodes in self loops\n",
    "assert T.number_of_selfloops() == len(find_selfloop_nodes(T))\n",
    "```"
   ]
  },
  {
   "cell_type": "markdown",
   "id": "88e12bca",
   "metadata": {},
   "source": [
    "### Network Visualization"
   ]
  },
  {
   "cell_type": "markdown",
   "id": "3159ae64",
   "metadata": {},
   "source": [
    "#### Matrix plots\n",
    "- Undirected graph\n",
    "- Directed graph: not necessarily to be symmetrical"
   ]
  },
  {
   "cell_type": "markdown",
   "id": "079d3d25",
   "metadata": {},
   "source": [
    "```\n",
    "# Import nxviz\n",
    "import nxviz as nv\n",
    "\n",
    "# Create the MatrixPlot object: m\n",
    "m = nv.MatrixPlot(T)\n",
    "\n",
    "# Draw m to the screen\n",
    "m.draw()\n",
    "\n",
    "# Display the plot\n",
    "plt.show()\n",
    "\n",
    "# import networkx as nx\n",
    "# Convert T to a matrix format: A\n",
    "A = nx.to_numpy_matrix(T)\n",
    "\n",
    "# Convert A back to the NetworkX form as a directed graph: T_conv\n",
    "T_conv = nx.from_numpy_matrix(A, create_using=nx.DiGraph())\n",
    "\n",
    "# Check that the `category` metadata field is lost from each node\n",
    "for n, d in T_conv.nodes(data=True):\n",
    "    assert 'category' not in d.keys()\n",
    "```"
   ]
  },
  {
   "cell_type": "markdown",
   "id": "ed9a1ce4",
   "metadata": {},
   "source": [
    "#### Arc plots\n",
    "- a transformation of the node-link diagram layout, in which nodes are ordered along one axis of the plot, and edges are drawn using circular arcs from one node to another"
   ]
  },
  {
   "cell_type": "markdown",
   "id": "d3d8d927",
   "metadata": {},
   "source": [
    "```\n",
    "# Import necessary modules\n",
    "import matplotlib.pyplot as plt\n",
    "from nxviz import ArcPlot\n",
    "\n",
    "# Create the un-customized ArcPlot object: a\n",
    "a = ArcPlot(T)\n",
    "\n",
    "# Draw a to the screen\n",
    "a.draw()\n",
    "\n",
    "# Display the plot\n",
    "plt.show()\n",
    "\n",
    "# Create the customized ArcPlot object: a2\n",
    "# https://nxviz.readthedocs.io/en/latest/modules.html?highlight=ArcPlot#nxviz.plots.ArcPlot\n",
    "a2 = ArcPlot(T, node_order='category', node_color='category')\n",
    "\n",
    "# Draw a2 to the screen\n",
    "a2.draw()\n",
    "\n",
    "# Display the plot\n",
    "plt.show()\n",
    "```"
   ]
  },
  {
   "cell_type": "markdown",
   "id": "9779a608",
   "metadata": {},
   "source": [
    "#### Circos plots\n",
    "- a transformation of the ArcPlot, such that the two ends of the ArcPlot are joined together into a circle.\n",
    "- Circos Plots were originally designed for use in genomics, and you can think of them as an aesthetic and compact alternative to Arc Plots."
   ]
  },
  {
   "cell_type": "markdown",
   "id": "815dc016",
   "metadata": {},
   "source": [
    "```\n",
    "# Import necessary modules\n",
    "import matplotlib.pyplot as plt\n",
    "from nxviz import CircosPlot\n",
    "\n",
    "# Create the CircosPlot object: c\n",
    "c = CircosPlot(T)\n",
    "\n",
    "# Draw c to the screen\n",
    "c.draw()\n",
    "\n",
    "# Display the plot\n",
    "plt.show()\n",
    "```"
   ]
  },
  {
   "cell_type": "markdown",
   "id": "72ab92bd",
   "metadata": {},
   "source": [
    "### Degree Centrality\n",
    "- (Number of Neighbors I have) / (Number of Neighbors I Could Possibly Have)\n",
    "- Examples of node with high degree centrality:\n",
    "    - Twitter broadcasters(having many followers)\n",
    "    - Airport transportation hubs\n",
    "    - Disease super-spreaders"
   ]
  },
  {
   "cell_type": "markdown",
   "id": "52e4bf73",
   "metadata": {},
   "source": [
    "```\n",
    "# Define nodes_with_m_nbrs()\n",
    "def nodes_with_m_nbrs(G, m):\n",
    "    \"\"\"\n",
    "    Returns all nodes in graph G that have m neighbors.\n",
    "    \"\"\"\n",
    "    nodes = set()\n",
    "\n",
    "    # Iterate over all nodes in G\n",
    "    for n in G.nodes():\n",
    "\n",
    "        # Check if the number of neighbors of n matches m\n",
    "        if len(list(G.neighbors(n))) == m:\n",
    "\n",
    "            # Add the node n to the set\n",
    "            nodes.add(n)\n",
    "\n",
    "    # Return the nodes with m neighbors\n",
    "    return nodes\n",
    "\n",
    "# Compute and print all nodes in T that have 6 neighbors\n",
    "six_nbrs = nodes_with_m_nbrs(T, 6)\n",
    "print(six_nbrs)\n",
    "```"
   ]
  },
  {
   "cell_type": "markdown",
   "id": "38eb55ae",
   "metadata": {},
   "source": [
    "```\n",
    "# Compute the degree of every node: degrees\n",
    "degrees = [len(list(T.neighbors(n))) for n in T.nodes()]\n",
    "\n",
    "# Print the degrees\n",
    "print(degrees)\n",
    "```"
   ]
  },
  {
   "cell_type": "markdown",
   "id": "4316de25",
   "metadata": {},
   "source": [
    "```\n",
    "# Import matplotlib.pyplot\n",
    "import matplotlib.pyplot as plt\n",
    "\n",
    "# Compute the degree centrality of the Twitter network: deg_cent\n",
    "deg_cent = nx.degree_centrality(T)\n",
    "\n",
    "# Plot a histogram of the degree centrality distribution of the graph.\n",
    "plt.figure()\n",
    "plt.hist(list(deg_cent.values()))\n",
    "plt.show()\n",
    "\n",
    "# Plot a histogram of the degree distribution of the graph\n",
    "plt.figure()\n",
    "plt.hist([len(list(T.neighbors(n))) for n in T.nodes()])\n",
    "plt.show()\n",
    "\n",
    "# Plot a scatter plot of the centrality distribution and the degree distribution\n",
    "plt.figure()\n",
    "plt.scatter([len(list(T.neighbors(n))) for n in T.nodes()], list(deg_cent.values()))\n",
    "plt.show()\n",
    "```"
   ]
  },
  {
   "cell_type": "markdown",
   "id": "76605f6a",
   "metadata": {},
   "source": [
    "### Pathfinding (or Finding paths)\n",
    "\n",
    "Pathfinding is important for\n",
    "- Optimization: e.g. shortest transport paths\n",
    "- Modeling: e.g. diease spread, information passing"
   ]
  },
  {
   "cell_type": "markdown",
   "id": "af824470",
   "metadata": {},
   "source": [
    "Breadth-First Search (BFS) Algorithm\n",
    "- e.g. Shortest path between two nodes"
   ]
  },
  {
   "cell_type": "markdown",
   "id": "ec6b2715",
   "metadata": {},
   "source": [
    "```\n",
    "# Define path_exists()\n",
    "def path_exists(G, node1, node2):\n",
    "    \"\"\"\n",
    "    This function checks whether a path exists between two nodes (node1, node2) in graph G.\n",
    "    \"\"\"\n",
    "    visited_nodes = set()\n",
    "\n",
    "    # Initialize the queue of nodes to visit with the first node: queue\n",
    "    queue = [node1]\n",
    "\n",
    "    # Iterate over the nodes in the queue\n",
    "    for node in queue:\n",
    "\n",
    "        # Get neighbors of the node\n",
    "        neighbors = G.neighbors(node)\n",
    "\n",
    "        # Check to see if the destination node is in the set of neighbors\n",
    "        if node2 in neighbors:\n",
    "            print('Path exists between nodes {0} and {1}'.format(node1, node2))\n",
    "            return True\n",
    "            break\n",
    "```"
   ]
  },
  {
   "cell_type": "code",
   "execution_count": null,
   "id": "20cedb63",
   "metadata": {},
   "outputs": [],
   "source": []
  }
 ],
 "metadata": {
  "kernelspec": {
   "display_name": "seongjaeryu-2tvGzb9p",
   "language": "python",
   "name": "seongjaeryu-2tvgzb9p"
  },
  "language_info": {
   "codemirror_mode": {
    "name": "ipython",
    "version": 3
   },
   "file_extension": ".py",
   "mimetype": "text/x-python",
   "name": "python",
   "nbconvert_exporter": "python",
   "pygments_lexer": "ipython3",
   "version": "3.8.9"
  }
 },
 "nbformat": 4,
 "nbformat_minor": 5
}
